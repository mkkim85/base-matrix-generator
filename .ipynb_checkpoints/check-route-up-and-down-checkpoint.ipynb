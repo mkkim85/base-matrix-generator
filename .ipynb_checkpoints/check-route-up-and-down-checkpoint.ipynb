{
 "cells": [
  {
   "cell_type": "code",
   "execution_count": 1,
   "metadata": {},
   "outputs": [],
   "source": [
    "import pandas as pd\n",
    "import numpy as np\n",
    "from tqdm import tqdm_notebook"
   ]
  },
  {
   "cell_type": "code",
   "execution_count": 2,
   "metadata": {},
   "outputs": [],
   "source": [
    "df_distance = pd.read_csv('200407_노선별정류장간거리.csv', encoding='utf-8', dtype={'노선ID':str, 'ISC 정류소 ID':str, '살하행':int})"
   ]
  },
  {
   "cell_type": "code",
   "execution_count": 3,
   "metadata": {},
   "outputs": [
    {
     "data": {
      "application/vnd.jupyter.widget-view+json": {
       "model_id": "2775951d814e4439a04dae386b0ec798",
       "version_major": 2,
       "version_minor": 0
      },
      "text/plain": [
       "HBox(children=(IntProgress(value=0, max=24223), HTML(value='')))"
      ]
     },
     "metadata": {},
     "output_type": "display_data"
    },
    {
     "name": "stdout",
     "output_type": "stream",
     "text": [
      "\n"
     ]
    }
   ],
   "source": [
    "prv_route_id = None; prv_route_name = None; prv_route_up_and_down = None\n",
    "prv_stop_id = None; prv_stop_ids = []\n",
    "\n",
    "df_dist = df_distance\n",
    "for _, row in tqdm_notebook(df_dist.iterrows(), total=df_dist.shape[0]):\n",
    "    route_id = row['노선ID']\n",
    "    route_name = row['노선명']\n",
    "    route_up_and_down = row['상하행']\n",
    "    length = row['길이']\n",
    "    stop_id = row['ISC 정류소 ID']\n",
    "    \n",
    "    if prv_route_up_and_down != route_up_and_down:\n",
    "        if prv_route_id == route_id and route_up_and_down == 0:\n",
    "            print(route_id, route_name)\n",
    "        prv_route_id = None; prv_route_name = None; prv_route_up_and_down = None\n",
    "        prv_stop_id = None; prv_stop_ids = []\n",
    "       \n",
    "    prv_route_id = route_id\n",
    "    prv_route_name = route_name\n",
    "    prv_route_up_and_down = route_up_and_down\n",
    "    prv_stop_id = stop_id\n",
    "    prv_stop_ids.append(stop_id)\n",
    "\n",
    "if prv_route_id == route_id and route_up_and_down == 0:\n",
    "    print(route_id, route_name)"
   ]
  }
 ],
 "metadata": {
  "kernelspec": {
   "display_name": "Python 3",
   "language": "python",
   "name": "python3"
  },
  "language_info": {
   "codemirror_mode": {
    "name": "ipython",
    "version": 3
   },
   "file_extension": ".py",
   "mimetype": "text/x-python",
   "name": "python",
   "nbconvert_exporter": "python",
   "pygments_lexer": "ipython3",
   "version": "3.7.3"
  }
 },
 "nbformat": 4,
 "nbformat_minor": 2
}
